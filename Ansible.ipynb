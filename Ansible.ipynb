{
 "cells": [
  {
   "cell_type": "code",
   "execution_count": 12,
   "metadata": {
    "id": "1sZMY7KWV-nL"
   },
   "outputs": [],
   "source": [
    "import json  # Handles JSON data\n",
    "import re  # Provides regular expression matching\n",
    "import google.auth  # Handles Google authentication\n",
    "from googleapiclient.discovery import build  # Google API client for service discovery\n",
    "from googleapiclient.errors import HttpError  # Handles errors from Google API calls\n",
    "from google.colab import auth  # Google Colab authentication module\n",
    "from markdown import markdown  # Converts Markdown text to HTML\n",
    "import unittest  # Python unit testing framework"
   ]
  },
  {
   "cell_type": "code",
   "metadata": {
    "id": "dFPX1Ws8yzY0"
   },
   "outputs": [],
   "source": "def authenticate_google_docs():\n    \"\"\"Authenticates with Google Docs API and returns a service object.\"\"\"\n    try:\n        auth.authenticate_user()\n        creds, _ = google.auth.default()\n        service = build('docs', 'v1', credentials=creds)\n        print(\"Successfully authenticated with Google Docs API\")\n        return service\n    except Exception as e:\n        print(f\"Authentication failed: {e}\")\n        raise\n\ndef create_google_doc(service, title):\n    \"\"\"Creates a new Google Doc with the given title and returns its document ID.\"\"\"\n    try:\n        doc = service.documents().create(body={'title': title}).execute()\n        doc_id = doc['documentId']\n        print(f\"Created document: {title}\")\n        print(f\"Document ID: {doc_id}\")\n        print(f\"Document URL: https://docs.google.com/document/d/{doc_id}\")\n        return doc_id\n    except HttpError as e:\n        print(f\"Failed to create document: {e}\")\n        raise\n    except Exception as e:\n        print(f\"Unexpected error creating document: {e}\")\n        raise\n\ndef update_google_doc(service, doc_id, requests):\n    \"\"\"Updates the specified Google Doc with the given list of requests.\"\"\"\n    try:\n        if not requests:\n            print(\"No formatting requests to apply\")\n            return\n            \n        # Process requests in smaller batches to avoid API limits\n        batch_size = 100\n        for i in range(0, len(requests), batch_size):\n            batch = requests[i:i + batch_size]\n            service.documents().batchUpdate(\n                documentId=doc_id, \n                body={'requests': batch}\n            ).execute()\n            print(f\"Applied batch {i//batch_size + 1} of {(len(requests)-1)//batch_size + 1}\")\n            \n        print(f'Document updated successfully: https://docs.google.com/document/d/{doc_id}')\n        \n    except HttpError as e:\n        print(f'Google API error occurred: {e}')\n        if hasattr(e, 'resp') and hasattr(e.resp, 'status'):\n            if e.resp.status == 403:\n                print(\"Permission denied. Check document sharing settings.\")\n            elif e.resp.status == 404:\n                print(\"Document not found. Check document ID.\")\n            elif e.resp.status == 429:\n                print(\"Rate limit exceeded. Try again later.\")\n        raise\n    except Exception as e:\n        print(f'Unexpected error updating document: {e}')\n        raise"
  },
  {
   "cell_type": "code",
   "metadata": {
    "id": "4inMSCc9y3dL"
   },
   "outputs": [],
   "source": "def parse_markdown(md_text):\n    \"\"\"Converts markdown text into Google Docs API requests with proper formatting.\"\"\"\n    requests = []\n    index = 1  # Google Docs uses 1-based indexing\n    lines = md_text.split(\"\\n\")\n\n    for line in lines:\n        if not line.strip():  # Skip empty lines\n            continue\n            \n        original_line = line\n        actual_text = line.strip()\n        style = None\n        apply_footer_style = False\n        is_bullet = False\n        is_checkbox = False\n        indent_level = 0\n\n        # Calculate indentation level for bullets\n        if line.lstrip().startswith(('- ', '* ')):\n            indent_level = (len(line) - len(line.lstrip())) // 2\n            is_bullet = True\n            actual_text = line.lstrip()[2:].strip()\n        \n        # Handle checkboxes\n        elif line.strip().startswith('- [ ]'):\n            is_checkbox = True\n            actual_text = line.strip()[5:].strip()\n        elif line.strip().startswith('- [x]'):\n            is_checkbox = True\n            actual_text = \"✓ \" + line.strip()[5:].strip()\n\n        # Handle markdown headings\n        elif line.startswith(\"# \"):\n            actual_text = line[2:].strip()\n            style = \"HEADING_1\"\n        elif line.startswith(\"## \"):\n            actual_text = line[3:].strip()\n            style = \"HEADING_2\"\n        elif line.startswith(\"### \"):\n            actual_text = line[4:].strip()\n            style = \"HEADING_3\"\n\n        # Handle footer styling\n        elif (line.lower().startswith(\"meeting recorded by\") or \n              line.lower().startswith(\"duration\") or\n              line.strip() == \"---\"):\n            apply_footer_style = True\n            if line.strip() == \"---\":\n                actual_text = \"─\" * 50  # Horizontal rule\n\n        # Insert text with proper formatting\n        text_to_insert = actual_text + \"\\n\"\n        \n        # Add bullet point symbol for bullets\n        if is_bullet:\n            indent_spaces = \"  \" * indent_level\n            text_to_insert = f\"{indent_spaces}• {actual_text}\\n\"\n        elif is_checkbox:\n            text_to_insert = f\"☐ {actual_text}\\n\"\n\n        requests.append({\n            \"insertText\": {\n                \"location\": {\"index\": index},\n                \"text\": text_to_insert\n            }\n        })\n\n        text_length = len(text_to_insert)\n\n        # Apply heading styles\n        if style:\n            requests.append({\n                \"updateParagraphStyle\": {\n                    \"range\": {\"startIndex\": index, \"endIndex\": index + text_length - 1},\n                    \"paragraphStyle\": {\"namedStyleType\": style},\n                    \"fields\": \"namedStyleType\"\n                }\n            })\n\n        # Apply footer styling\n        if apply_footer_style:\n            requests.append({\n                \"updateTextStyle\": {\n                    \"range\": {\"startIndex\": index, \"endIndex\": index + text_length - 1},\n                    \"textStyle\": {\n                        \"italic\": True, \n                        \"fontSize\": {\"magnitude\": 10, \"unit\": \"PT\"}\n                    },\n                    \"fields\": \"italic,fontSize\"\n                }\n            })\n\n        # Apply bullet point formatting\n        if is_bullet and indent_level > 0:\n            requests.append({\n                \"updateParagraphStyle\": {\n                    \"range\": {\"startIndex\": index, \"endIndex\": index + text_length - 1},\n                    \"paragraphStyle\": {\n                        \"indentFirstLine\": {\"magnitude\": indent_level * 18, \"unit\": \"PT\"},\n                        \"indentStart\": {\"magnitude\": indent_level * 18, \"unit\": \"PT\"}\n                    },\n                    \"fields\": \"indentFirstLine,indentStart\"\n                }\n            })\n\n        # Apply bold styling to @mentions\n        mention_offset = 0\n        if is_bullet:\n            mention_offset = len(\"  \" * indent_level + \"• \")\n        elif is_checkbox:\n            mention_offset = len(\"☐ \")\n            \n        for match in re.finditer(r\"@\\w+\", actual_text):\n            mention_start = index + mention_offset + match.start()\n            mention_end = index + mention_offset + match.end()\n            requests.append({\n                \"updateTextStyle\": {\n                    \"range\": {\"startIndex\": mention_start, \"endIndex\": mention_end},\n                    \"textStyle\": {\n                        \"bold\": True,\n                        \"foregroundColor\": {\n                            \"color\": {\n                                \"rgbColor\": {\n                                    \"red\": 0.2,\n                                    \"green\": 0.4,\n                                    \"blue\": 0.8\n                                }\n                            }\n                        }\n                    },\n                    \"fields\": \"bold,foregroundColor\"\n                }\n            })\n\n        index += text_length\n\n    return requests"
  },
  {
   "cell_type": "code",
   "metadata": {
    "colab": {
     "base_uri": "https://localhost:8080/"
    },
    "id": "mbkJzN5Ly6Ga",
    "outputId": "c1624afa-7c3a-4228-eba0-fea4de25876d"
   },
   "outputs": [],
   "source": "# Example markdown notes\nmarkdown_notes = \"\"\"# Product Team Sync - May 15, 2023\n\n## Attendees\n- Sarah Chen (Product Lead)\n- Mike Johnson (Engineering)\n- Anna Smith (Design)\n- David Park (QA)\n\n## Agenda\n\n### 1. Sprint Review\n* Completed Features\n  * User authentication flow\n  * Dashboard redesign\n  * Performance optimization\n    * Reduced load time by 40%\n    * Implemented caching solution\n* Pending Items\n  * Mobile responsive fixes\n  * Beta testing feedback integration\n\n### 2. Current Challenges\n* Resource constraints in QA team\n* Third-party API integration delays\n* User feedback on new UI\n  * Navigation confusion\n  * Color contrast issues\n\n### 3. Next Sprint Planning\n* Priority Features\n  * Payment gateway integration\n  * User profile enhancement\n  * Analytics dashboard\n* Technical Debt\n  * Code refactoring\n  * Documentation updates\n\n## Action Items\n- [ ] @sarah: Finalize Q3 roadmap by Friday\n- [ ] @mike: Schedule technical review for payment integration\n- [ ] @anna: Share updated design system documentation\n- [ ] @david: Prepare QA resource allocation proposal\n\n## Next Steps\n* Schedule individual team reviews\n* Update sprint board\n* Share meeting summary with stakeholders\n\n## Notes\n* Next sync scheduled for May 22, 2023\n* Platform demo for stakeholders on May 25\n* Remember to update JIRA tickets\n\n---\nMeeting recorded by: Sarah Chen\nDuration: 45 minutes\n\"\"\"\n\n# Main execution with error handling\ntry:\n    print(\"Starting markdown to Google Docs conversion...\")\n    \n    # Authenticate and create service\n    service = authenticate_google_docs()\n    \n    # Create new document\n    doc_id = create_google_doc(service, \"Product Team Sync - May 15, 2023\")\n    \n    # Parse markdown and generate formatting requests\n    print(\"Parsing markdown content...\")\n    requests = parse_markdown(markdown_notes)\n    print(f\"Generated {len(requests)} formatting requests\")\n    \n    # Update the document with formatting\n    print(\"Applying formatting to document...\")\n    update_google_doc(service, doc_id, requests)\n    \n    print(\"✅ Conversion completed successfully!\")\n    \nexcept Exception as e:\n    print(f\"❌ Conversion failed: {e}\")\n    print(\"Please check your authentication and try again.\")"
  }
 ],
 "metadata": {
  "colab": {
   "provenance": []
  },
  "kernelspec": {
   "display_name": "Python 3",
   "name": "python3"
  },
  "language_info": {
   "name": "python"
  }
 },
 "nbformat": 4,
 "nbformat_minor": 0
}